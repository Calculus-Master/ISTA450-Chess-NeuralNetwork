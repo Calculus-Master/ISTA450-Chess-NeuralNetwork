{
 "cells": [
  {
   "cell_type": "code",
   "id": "initial_id",
   "metadata": {
    "collapsed": true,
    "ExecuteTime": {
     "end_time": "2024-11-05T22:52:53.759176Z",
     "start_time": "2024-11-05T22:51:56.238988Z"
    }
   },
   "source": [
    "import pandas as pd\n",
    "import torch\n",
    "from torch.utils.data import TensorDataset, DataLoader\n",
    "from PytorchNN import DEVICE, Network\n",
    "\n",
    "import PytorchNN as net"
   ],
   "outputs": [
    {
     "name": "stdout",
     "output_type": "stream",
     "text": [
      "Using device mps\n"
     ]
    }
   ],
   "execution_count": 2
  },
  {
   "metadata": {
    "ExecuteTime": {
     "end_time": "2024-11-05T22:53:08.204216Z",
     "start_time": "2024-11-05T22:53:08.109669Z"
    }
   },
   "cell_type": "code",
   "source": [
    "# Dataset Loading\n",
    "df = pd.read_csv(\"data/chess_data_output-110524.csv\")\n",
    "input_features = df.iloc[:, :10].values\n",
    "output_labels = df.iloc[:, 10:].values\n",
    "output_labels"
   ],
   "id": "5a28513c2bf17d29",
   "outputs": [
    {
     "data": {
      "text/plain": [
       "array([[0, 0, 1],\n",
       "       [0, 0, 1],\n",
       "       [0, 0, 1],\n",
       "       ...,\n",
       "       [0, 1, 0],\n",
       "       [0, 1, 0],\n",
       "       [0, 1, 0]])"
      ]
     },
     "execution_count": 4,
     "metadata": {},
     "output_type": "execute_result"
    }
   ],
   "execution_count": 4
  },
  {
   "metadata": {
    "ExecuteTime": {
     "end_time": "2024-11-05T22:55:00.626714Z",
     "start_time": "2024-11-05T22:55:00.615863Z"
    }
   },
   "cell_type": "code",
   "source": [
    "# Tensor Conversion\n",
    "inputs_tensor = torch.tensor(input_features, dtype=torch.float32)\n",
    "outputs_tensor = torch.tensor(output_labels, dtype=torch.float32)\n",
    "\n",
    "# Outputs -> Class Indices\n",
    "outputs_tensor = torch.argmax(outputs_tensor, dim=1)\n",
    "\n",
    "dataset = TensorDataset(inputs_tensor, outputs_tensor)\n",
    "\n",
    "batch_size = 20\n",
    "train_loader = DataLoader(dataset, batch_size=batch_size, shuffle=True)"
   ],
   "id": "87ef5eba13d81c73",
   "outputs": [],
   "execution_count": 5
  },
  {
   "metadata": {
    "ExecuteTime": {
     "end_time": "2024-10-25T02:20:28.048265Z",
     "start_time": "2024-10-25T02:20:28.035186Z"
    }
   },
   "cell_type": "code",
   "source": [
    "# Model creation\n",
    "model = net.Network().to(DEVICE)"
   ],
   "id": "74a6308e61f5748d",
   "outputs": [],
   "execution_count": 63
  },
  {
   "metadata": {
    "ExecuteTime": {
     "end_time": "2024-10-25T03:05:48.669381Z",
     "start_time": "2024-10-25T02:20:29.158488Z"
    }
   },
   "cell_type": "code",
   "source": [
    "%%time\n",
    "model.train_model(train_loader, epochs=100)"
   ],
   "id": "1521c23727ddb3bc",
   "outputs": [
    {
     "name": "stdout",
     "output_type": "stream",
     "text": [
      "Epoch 1 / 100 - Loss: 1.0642\n",
      "Epoch 6 / 100 - Loss: 1.0235\n",
      "Epoch 11 / 100 - Loss: 1.0116\n",
      "Epoch 16 / 100 - Loss: 1.0082\n",
      "Epoch 21 / 100 - Loss: 1.0065\n",
      "Epoch 26 / 100 - Loss: 1.0049\n",
      "Epoch 31 / 100 - Loss: 1.0037\n",
      "Epoch 36 / 100 - Loss: 1.0023\n",
      "Epoch 41 / 100 - Loss: 1.0007\n",
      "Epoch 46 / 100 - Loss: 0.9995\n",
      "Epoch 51 / 100 - Loss: 0.9979\n",
      "Epoch 56 / 100 - Loss: 0.9968\n",
      "Epoch 61 / 100 - Loss: 0.9964\n",
      "Epoch 66 / 100 - Loss: 0.9950\n",
      "Epoch 71 / 100 - Loss: 0.9937\n",
      "Epoch 76 / 100 - Loss: 0.9931\n",
      "Epoch 81 / 100 - Loss: 0.9929\n",
      "Epoch 86 / 100 - Loss: 0.9922\n",
      "Epoch 91 / 100 - Loss: 0.9917\n",
      "Epoch 96 / 100 - Loss: 0.9911\n"
     ]
    }
   ],
   "execution_count": 64
  },
  {
   "metadata": {
    "ExecuteTime": {
     "end_time": "2024-10-25T03:22:04.893246Z",
     "start_time": "2024-10-25T03:22:04.870829Z"
    }
   },
   "cell_type": "code",
   "source": "model.test_model(train_loader)",
   "id": "65b9aff11c4b9d0",
   "outputs": [
    {
     "ename": "AttributeError",
     "evalue": "'Network' object has no attribute 'test_model'",
     "output_type": "error",
     "traceback": [
      "\u001B[0;31m---------------------------------------------------------------------------\u001B[0m",
      "\u001B[0;31mAttributeError\u001B[0m                            Traceback (most recent call last)",
      "Cell \u001B[0;32mIn[87], line 1\u001B[0m\n\u001B[0;32m----> 1\u001B[0m \u001B[43mmodel\u001B[49m\u001B[38;5;241;43m.\u001B[39;49m\u001B[43mtest_model\u001B[49m(train_loader)\n",
      "File \u001B[0;32m~/Documents/Coding/ISTA450 Projects/ChessNN/.venv/lib/python3.11/site-packages/torch/nn/modules/module.py:1688\u001B[0m, in \u001B[0;36mModule.__getattr__\u001B[0;34m(self, name)\u001B[0m\n\u001B[1;32m   1686\u001B[0m     \u001B[38;5;28;01mif\u001B[39;00m name \u001B[38;5;129;01min\u001B[39;00m modules:\n\u001B[1;32m   1687\u001B[0m         \u001B[38;5;28;01mreturn\u001B[39;00m modules[name]\n\u001B[0;32m-> 1688\u001B[0m \u001B[38;5;28;01mraise\u001B[39;00m \u001B[38;5;167;01mAttributeError\u001B[39;00m(\u001B[38;5;124mf\u001B[39m\u001B[38;5;124m\"\u001B[39m\u001B[38;5;124m'\u001B[39m\u001B[38;5;132;01m{\u001B[39;00m\u001B[38;5;28mtype\u001B[39m(\u001B[38;5;28mself\u001B[39m)\u001B[38;5;241m.\u001B[39m\u001B[38;5;18m__name__\u001B[39m\u001B[38;5;132;01m}\u001B[39;00m\u001B[38;5;124m'\u001B[39m\u001B[38;5;124m object has no attribute \u001B[39m\u001B[38;5;124m'\u001B[39m\u001B[38;5;132;01m{\u001B[39;00mname\u001B[38;5;132;01m}\u001B[39;00m\u001B[38;5;124m'\u001B[39m\u001B[38;5;124m\"\u001B[39m)\n",
      "\u001B[0;31mAttributeError\u001B[0m: 'Network' object has no attribute 'test_model'"
     ]
    }
   ],
   "execution_count": 87
  },
  {
   "metadata": {
    "ExecuteTime": {
     "end_time": "2024-11-04T22:43:57.053626Z",
     "start_time": "2024-11-04T22:43:56.780927Z"
    }
   },
   "cell_type": "code",
   "source": [
    "with torch.no_grad():\n",
    "    r = model.forward(torch.tensor([\n",
    "        [8, 2, 2, 2, 1, \n",
    "         8, 2, 2, 2, 1]\n",
    "    ]).type(torch.float32).to(DEVICE))\n",
    "r"
   ],
   "id": "b6384319e480e707",
   "outputs": [
    {
     "data": {
      "text/plain": [
       "tensor([[0.5720, 0.3540, 0.0740]], device='mps:0')"
      ]
     },
     "execution_count": 6,
     "metadata": {},
     "output_type": "execute_result"
    }
   ],
   "execution_count": 6
  },
  {
   "metadata": {
    "ExecuteTime": {
     "end_time": "2024-10-25T03:18:27.017379Z",
     "start_time": "2024-10-25T03:18:27.008336Z"
    }
   },
   "cell_type": "code",
   "source": [
    "import json\n",
    "# Save the trained weights to JSON\n",
    "model_weights = {key: value.detach().cpu().numpy().tolist() for key, value in model.state_dict().items()}\n",
    "\n",
    "with open('exports/model_weights-100epoch-Adam-94k-102424.json', 'w') as f:\n",
    "    json.dump(model_weights, f)"
   ],
   "id": "cb27bd20a607bce7",
   "outputs": [],
   "execution_count": 83
  },
  {
   "metadata": {
    "ExecuteTime": {
     "end_time": "2024-10-25T03:20:36.773469Z",
     "start_time": "2024-10-25T03:20:36.735790Z"
    }
   },
   "cell_type": "code",
   "source": [
    "# Save model with serialization\n",
    "torch.save(model.state_dict(), \"exports/model_state_dict-100epoch-Adam-94k-102424.pt\")"
   ],
   "id": "8c6a3e315b806583",
   "outputs": [],
   "execution_count": 84
  },
  {
   "metadata": {
    "ExecuteTime": {
     "end_time": "2024-11-04T22:42:44.106634Z",
     "start_time": "2024-11-04T22:42:43.091404Z"
    }
   },
   "cell_type": "code",
   "source": [
    "# Load model with serialization\n",
    "model = Network().to(DEVICE)\n",
    "model.load_state_dict(torch.load(\"exports/model_state_dict-100epoch-Adam-94k-102424.pt\", weights_only=True))\n",
    "model.eval()"
   ],
   "id": "6685728327d6f000",
   "outputs": [
    {
     "data": {
      "text/plain": [
       "Network(\n",
       "  (network_layers): Sequential(\n",
       "    (0): Linear(in_features=10, out_features=16, bias=True)\n",
       "    (1): ReLU()\n",
       "    (2): Linear(in_features=16, out_features=8, bias=True)\n",
       "    (3): ReLU()\n",
       "    (4): Linear(in_features=8, out_features=3, bias=True)\n",
       "    (5): Softmax(dim=1)\n",
       "  )\n",
       "  (loss_func): CrossEntropyLoss()\n",
       ")"
      ]
     },
     "execution_count": 4,
     "metadata": {},
     "output_type": "execute_result"
    }
   ],
   "execution_count": 4
  },
  {
   "metadata": {},
   "cell_type": "code",
   "outputs": [],
   "execution_count": null,
   "source": "",
   "id": "640aa6da01ff788c"
  }
 ],
 "metadata": {
  "kernelspec": {
   "display_name": "Python 3",
   "language": "python",
   "name": "python3"
  },
  "language_info": {
   "codemirror_mode": {
    "name": "ipython",
    "version": 2
   },
   "file_extension": ".py",
   "mimetype": "text/x-python",
   "name": "python",
   "nbconvert_exporter": "python",
   "pygments_lexer": "ipython2",
   "version": "2.7.6"
  }
 },
 "nbformat": 4,
 "nbformat_minor": 5
}
