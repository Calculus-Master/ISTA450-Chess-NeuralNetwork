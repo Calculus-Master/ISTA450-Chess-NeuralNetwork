{
 "cells": [
  {
   "cell_type": "code",
   "id": "initial_id",
   "metadata": {
    "collapsed": true,
    "ExecuteTime": {
     "end_time": "2024-11-14T19:08:49.297234Z",
     "start_time": "2024-11-14T19:08:49.294753Z"
    }
   },
   "source": [
    "import pandas as pd\n",
    "import torch\n",
    "from torch.utils.data import TensorDataset, DataLoader\n",
    "from PytorchNN import DEVICE, Network\n",
    "\n",
    "import PytorchNN as net"
   ],
   "outputs": [],
   "execution_count": 15
  },
  {
   "metadata": {
    "ExecuteTime": {
     "end_time": "2024-11-14T19:08:50.462Z",
     "start_time": "2024-11-14T19:08:50.373982Z"
    }
   },
   "cell_type": "code",
   "source": [
    "# Dataset Loading\n",
    "df = pd.read_csv(\"data/chess_data_output-110524.csv\")\n",
    "input_features = df.iloc[:, :10].values\n",
    "output_labels = df.iloc[:, 10:].values\n",
    "output_labels"
   ],
   "id": "5a28513c2bf17d29",
   "outputs": [
    {
     "data": {
      "text/plain": [
       "array([[0, 0, 1],\n",
       "       [0, 0, 1],\n",
       "       [0, 0, 1],\n",
       "       ...,\n",
       "       [0, 1, 0],\n",
       "       [0, 1, 0],\n",
       "       [0, 1, 0]])"
      ]
     },
     "execution_count": 16,
     "metadata": {},
     "output_type": "execute_result"
    }
   ],
   "execution_count": 16
  },
  {
   "metadata": {
    "ExecuteTime": {
     "end_time": "2024-11-14T19:08:51.524139Z",
     "start_time": "2024-11-14T19:08:51.518875Z"
    }
   },
   "cell_type": "code",
   "source": [
    "# Tensor Conversion\n",
    "inputs_tensor = torch.tensor(input_features, dtype=torch.float32)\n",
    "outputs_tensor = torch.tensor(output_labels, dtype=torch.float32)\n",
    "\n",
    "dataset = TensorDataset(inputs_tensor, outputs_tensor)\n",
    "\n",
    "batch_size = 20\n",
    "train_loader = DataLoader(dataset, batch_size=batch_size, shuffle=True)"
   ],
   "id": "87ef5eba13d81c73",
   "outputs": [],
   "execution_count": 17
  },
  {
   "metadata": {
    "ExecuteTime": {
     "end_time": "2024-11-14T19:08:52.486574Z",
     "start_time": "2024-11-14T19:08:52.478482Z"
    }
   },
   "cell_type": "code",
   "source": [
    "# Model creation\n",
    "model = net.Network().to(DEVICE)"
   ],
   "id": "74a6308e61f5748d",
   "outputs": [],
   "execution_count": 18
  },
  {
   "metadata": {
    "ExecuteTime": {
     "end_time": "2024-11-14T19:10:09.432222Z",
     "start_time": "2024-11-14T19:08:53.555533Z"
    }
   },
   "cell_type": "code",
   "source": [
    "%%time\n",
    "model.train_model(train_loader, epochs=1)"
   ],
   "id": "1521c23727ddb3bc",
   "outputs": [
    {
     "name": "stdout",
     "output_type": "stream",
     "text": [
      "Epoch 1 / 1 - Loss: 1.0925\n",
      "CPU times: user 1min 6s, sys: 7.24 s, total: 1min 14s\n",
      "Wall time: 1min 15s\n"
     ]
    }
   ],
   "execution_count": 19
  },
  {
   "metadata": {
    "ExecuteTime": {
     "end_time": "2024-11-14T19:10:37.461840Z",
     "start_time": "2024-11-14T19:10:20.676756Z"
    }
   },
   "cell_type": "code",
   "source": "model.test_model(train_loader)",
   "id": "65b9aff11c4b9d0",
   "outputs": [
    {
     "name": "stdout",
     "output_type": "stream",
     "text": [
      "Test Accuracy: 36.45%\n"
     ]
    }
   ],
   "execution_count": 20
  },
  {
   "metadata": {
    "ExecuteTime": {
     "end_time": "2024-11-14T19:11:04.074059Z",
     "start_time": "2024-11-14T19:11:04.043175Z"
    }
   },
   "cell_type": "code",
   "source": [
    "with torch.no_grad():\n",
    "    r = model.predict(torch.tensor([\n",
    "        [8, 2, 2, 2, 1, \n",
    "         8, 2, 2, 2, 1]\n",
    "    ]).type(torch.float32).to(DEVICE))\n",
    "r"
   ],
   "id": "b6384319e480e707",
   "outputs": [
    {
     "data": {
      "text/plain": [
       "tensor([[0.3334, 0.3679, 0.2987]], device='mps:0')"
      ]
     },
     "execution_count": 22,
     "metadata": {},
     "output_type": "execute_result"
    }
   ],
   "execution_count": 22
  },
  {
   "metadata": {
    "ExecuteTime": {
     "end_time": "2024-10-25T03:18:27.017379Z",
     "start_time": "2024-10-25T03:18:27.008336Z"
    }
   },
   "cell_type": "code",
   "source": [
    "import json\n",
    "# Save the trained weights to JSON\n",
    "model_weights = {key: value.detach().cpu().numpy().tolist() for key, value in model.state_dict().items()}\n",
    "\n",
    "with open('exports/model_weights-100epoch-Adam-94k-102424.json', 'w') as f:\n",
    "    json.dump(model_weights, f)"
   ],
   "id": "cb27bd20a607bce7",
   "outputs": [],
   "execution_count": 83
  },
  {
   "metadata": {
    "ExecuteTime": {
     "end_time": "2024-10-25T03:20:36.773469Z",
     "start_time": "2024-10-25T03:20:36.735790Z"
    }
   },
   "cell_type": "code",
   "source": [
    "# Save model with serialization\n",
    "torch.save(model.state_dict(), \"exports/model_state_dict-100epoch-Adam-94k-102424.pt\")"
   ],
   "id": "8c6a3e315b806583",
   "outputs": [],
   "execution_count": 84
  },
  {
   "metadata": {
    "ExecuteTime": {
     "end_time": "2024-11-04T22:42:44.106634Z",
     "start_time": "2024-11-04T22:42:43.091404Z"
    }
   },
   "cell_type": "code",
   "source": [
    "# Load model with serialization\n",
    "model = Network().to(DEVICE)\n",
    "model.load_state_dict(torch.load(\"exports/model_state_dict-100epoch-Adam-94k-102424.pt\", weights_only=True))\n",
    "model.eval()"
   ],
   "id": "6685728327d6f000",
   "outputs": [
    {
     "data": {
      "text/plain": [
       "Network(\n",
       "  (network_layers): Sequential(\n",
       "    (0): Linear(in_features=10, out_features=16, bias=True)\n",
       "    (1): ReLU()\n",
       "    (2): Linear(in_features=16, out_features=8, bias=True)\n",
       "    (3): ReLU()\n",
       "    (4): Linear(in_features=8, out_features=3, bias=True)\n",
       "    (5): Softmax(dim=1)\n",
       "  )\n",
       "  (loss_func): CrossEntropyLoss()\n",
       ")"
      ]
     },
     "execution_count": 4,
     "metadata": {},
     "output_type": "execute_result"
    }
   ],
   "execution_count": 4
  },
  {
   "metadata": {},
   "cell_type": "code",
   "outputs": [],
   "execution_count": null,
   "source": "",
   "id": "640aa6da01ff788c"
  }
 ],
 "metadata": {
  "kernelspec": {
   "display_name": "Python 3",
   "language": "python",
   "name": "python3"
  },
  "language_info": {
   "codemirror_mode": {
    "name": "ipython",
    "version": 2
   },
   "file_extension": ".py",
   "mimetype": "text/x-python",
   "name": "python",
   "nbconvert_exporter": "python",
   "pygments_lexer": "ipython2",
   "version": "2.7.6"
  }
 },
 "nbformat": 4,
 "nbformat_minor": 5
}
